{
 "cells": [
  {
   "cell_type": "markdown",
   "metadata": {},
   "source": [
    "# Batches\n",
    "*Bulk operations in AltDSS*\n",
    "\n",
    "**Note:** Although there are some runtime numbers in this document, required to show some of the motivation for the implementation, this is not intended as a benchmark. By default, it runs on DSS-Extensions modules only, and the times from the official Windows COM implementation should be higher -- feel free to uncomment and rerun to check it yourself."
   ]
  },
  {
   "cell_type": "markdown",
   "metadata": {},
   "source": [
    "**Notebook requirements**\n",
    "\n",
    "This is a Jupyter notebook. Running it as-is will try to download the required files.\n",
    "\n",
    "You can open and then run this notebook on Google Colab for a quick overview if you don't want to set up a local environment: **[Open in Colab](https://colab.research.google.com/github/dss-extensions/AltDSS-Python/blob/master/docs/examples/Batches.ipynb)**."
   ]
  },
  {
   "cell_type": "code",
   "execution_count": 1,
   "metadata": {},
   "outputs": [],
   "source": [
    "# When running via Colab, install the package first\n",
    "import os, subprocess\n",
    "if os.getenv(\"COLAB_RELEASE_TAG\"):\n",
    "    print(subprocess.check_output('pip install altdss[all]', shell=True).decode())"
   ]
  },
  {
   "cell_type": "code",
   "execution_count": 2,
   "metadata": {},
   "outputs": [],
   "source": [
    "# Download the sample circuits and test cases if they do not exist already\n",
    "from dss.examples import download_repo_snapshot\n",
    "BASE_PATH = download_repo_snapshot('.', repo_name='electricdss-tst', use_version=False)\n",
    "CKT7_PATH = BASE_PATH / 'Version8/Distrib/EPRITestCircuits/ckt7/Master_ckt7.dss'\n",
    "assert CKT7_PATH.exists()"
   ]
  },
  {
   "cell_type": "markdown",
   "metadata": {},
   "source": [
    "If you are reading this notebook online and would like to run in your local Python installation, you can download both the AltDSS-Python repository (which contains this notebook) and the sample circuits with `download_examples`.\n",
    "\n",
    "On Windows, run on a command prompt in your Python environment to install all optional dependencies:\n",
    "\n",
    "```batch\n",
    "pip install altdss[all]\n",
    "python -c \"from dss.examples import download_examples; download_examples(r'c:\\temp', repo_name='AltDSS-Python')\"\n",
    "cd c:\\temp\\AltDSS-Python\\docs\\examples\n",
    "jupyter lab\n",
    "```\n"
   ]
  },
  {
   "cell_type": "markdown",
   "metadata": {},
   "source": [
    "## What are batches?\n",
    "\n",
    "Batches, in AltDSS, are Python objects that allow interacting with whole collections or a selection of filtered items of OpenDSS items from the AltDSS engine.\n",
    "\n",
    "Uniform batches allow interacting with the OpenDSS properties and using most functions that the individual object would present.\n",
    "\n",
    "\n",
    "## Why use batches?\n",
    "\n",
    "The batch operations provide a simpler interface and usually better performance profile than directly interacting with each object, or interacting with the [classic APIs](https://dss-extensions.org/classic_api.html) through either the dedicated interfaces or the `Active...` interfaces.\n",
    "\n",
    "Batches pass many operations to the engine level, hence the better performance in Python.\n",
    "\n",
    "Since AltDSS can be used as a companion package with [DSS-Python](https://dss-extensions.org/DSS-Python/) and/or [OpenDSSDirect.py](https://dss-extensions.org/OpenDSSDirect.py/), users can adopt batches where they see fit, without requiring a full codebase rewrite."
   ]
  },
  {
   "cell_type": "markdown",
   "metadata": {},
   "source": [
    "## Loading a circuit\n",
    "\n",
    "Before using the batches, let's load a circuit and inspect some values.\n"
   ]
  },
  {
   "cell_type": "code",
   "execution_count": 3,
   "metadata": {},
   "outputs": [],
   "source": [
    "from altdss import altdss\n",
    "altdss(f'redirect \"{CKT7_PATH}\"')"
   ]
  },
  {
   "cell_type": "markdown",
   "metadata": {},
   "source": [
    "While we don't have a dedicated dataframe integration, let's look into the loads using JSON and later compare with the batches:"
   ]
  },
  {
   "cell_type": "code",
   "execution_count": 4,
   "metadata": {},
   "outputs": [
    {
     "data": {
      "text/plain": [
       "kV\n",
       "0.240    534\n",
       "0.208    333\n",
       "7.200     39\n",
       "Name: count, dtype: int64"
      ]
     },
     "execution_count": 4,
     "metadata": {},
     "output_type": "execute_result"
    }
   ],
   "source": [
    "import pandas as pd\n",
    "import json\n",
    "from dss import DSSJSONFlags\n",
    "df_loads = pd.DataFrame(json.loads(altdss.Load.to_json(DSSJSONFlags.Full))) # include all properties for inspection, even those not set explicitly\n",
    "df_loads.kV.value_counts()"
   ]
  },
  {
   "cell_type": "code",
   "execution_count": 5,
   "metadata": {},
   "outputs": [
    {
     "data": {
      "text/plain": [
       "Phases\n",
       "1    573\n",
       "3    333\n",
       "Name: count, dtype: int64"
      ]
     },
     "execution_count": 5,
     "metadata": {},
     "output_type": "execute_result"
    }
   ],
   "source": [
    "df_loads.Phases.value_counts()"
   ]
  },
  {
   "cell_type": "code",
   "execution_count": 6,
   "metadata": {},
   "outputs": [
    {
     "data": {
      "text/plain": [
       "Conn\n",
       "wye    906\n",
       "Name: count, dtype: int64"
      ]
     },
     "execution_count": 6,
     "metadata": {},
     "output_type": "execute_result"
    }
   ],
   "source": [
    "df_loads.Conn.value_counts()"
   ]
  },
  {
   "cell_type": "code",
   "execution_count": 7,
   "metadata": {},
   "outputs": [
    {
     "data": {
      "text/plain": [
       "(array([867,   0,   0,   0,   2,   9,   5,   6,   8,   9]),\n",
       " array([7.81118088e-01, 2.45423006e+02, 4.90064894e+02, 7.34706783e+02,\n",
       "        9.79348671e+02, 1.22399056e+03, 1.46863245e+03, 1.71327434e+03,\n",
       "        1.95791622e+03, 2.20255811e+03, 2.44720000e+03]))"
      ]
     },
     "execution_count": 7,
     "metadata": {},
     "output_type": "execute_result"
    }
   ],
   "source": [
    "import numpy as np\n",
    "np.histogram(df_loads.kW)"
   ]
  },
  {
   "cell_type": "markdown",
   "metadata": {},
   "source": [
    "## Implicit collections as batches\n",
    "\n",
    "Implicit collections are the lists of objects of a certain types, as tracked by the OpenDSS engine.\n",
    "\n",
    "AltDSS exposes collections for all DSS objects implemented in the AltDSS/DSS C-API engine. That is, in AltDSS, not only you can interact directly in Python with all DSS objects, you can use them in batches.\n",
    "\n",
    "That is, the Load API itself is exposed as a dynamic batch. If new loads are added, this batch reflects that. Most user-created batches are static and are not updated automatically with new elements.\n",
    "\n",
    "All the collections behave as batches and some can contain a few extra functions."
   ]
  },
  {
   "cell_type": "code",
   "execution_count": 8,
   "metadata": {},
   "outputs": [
    {
     "data": {
      "text/plain": [
       "906"
      ]
     },
     "execution_count": 8,
     "metadata": {},
     "output_type": "execute_result"
    }
   ],
   "source": [
    "len(altdss.Load)"
   ]
  },
  {
   "cell_type": "code",
   "execution_count": 9,
   "metadata": {},
   "outputs": [
    {
     "data": {
      "text/plain": [
       "['25609_a',\n",
       " '25609_b',\n",
       " '25609_c',\n",
       " '25615_a',\n",
       " '25615_b',\n",
       " '25615_c',\n",
       " '25625_a',\n",
       " '25625_b',\n",
       " '25625_c',\n",
       " '25627_a']"
      ]
     },
     "execution_count": 9,
     "metadata": {},
     "output_type": "execute_result"
    }
   ],
   "source": [
    "altdss.Load.Name[:10]"
   ]
  },
  {
   "cell_type": "code",
   "execution_count": 10,
   "metadata": {},
   "outputs": [
    {
     "data": {
      "text/plain": [
       "['ckt7.1',\n",
       " 'ckt7.2',\n",
       " 'ckt7.3',\n",
       " 'ckt7.1',\n",
       " 'ckt7.2',\n",
       " 'ckt7.3',\n",
       " 'ckt7.1',\n",
       " 'ckt7.2',\n",
       " 'ckt7.3',\n",
       " 'ckt7.1']"
      ]
     },
     "execution_count": 10,
     "metadata": {},
     "output_type": "execute_result"
    }
   ],
   "source": [
    "altdss.Load.Bus1[:10]"
   ]
  },
  {
   "cell_type": "code",
   "execution_count": 11,
   "metadata": {},
   "outputs": [
    {
     "data": {
      "text/plain": [
       "['source']"
      ]
     },
     "execution_count": 11,
     "metadata": {},
     "output_type": "execute_result"
    }
   ],
   "source": [
    "altdss.Vsource.Name"
   ]
  },
  {
   "cell_type": "code",
   "execution_count": 12,
   "metadata": {},
   "outputs": [
    {
     "data": {
      "text/plain": [
       "['default',\n",
       " 'defaultload',\n",
       " 'defaultgen',\n",
       " 'defaultvsource',\n",
       " 'linear',\n",
       " 'pwm6',\n",
       " 'dc6']"
      ]
     },
     "execution_count": 12,
     "metadata": {},
     "output_type": "execute_result"
    }
   ],
   "source": [
    "altdss.Spectrum.Name"
   ]
  },
  {
   "cell_type": "code",
   "execution_count": 13,
   "metadata": {},
   "outputs": [
    {
     "data": {
      "text/plain": [
       "[]"
      ]
     },
     "execution_count": 13,
     "metadata": {},
     "output_type": "execute_result"
    }
   ],
   "source": [
    "altdss.Generator.Name"
   ]
  },
  {
   "cell_type": "markdown",
   "metadata": {},
   "source": [
    "## Using the API methods\n",
    "\n",
    "Most DSS properties can be accessed, but also most of the classic API functions were generalized to operate on batches too!\n",
    "\n",
    "Let's compare how to get all powers from all loads in AltDSS and DSS-Python (which would be equivalent to the classic OpenDSS COM interface):"
   ]
  },
  {
   "cell_type": "code",
   "execution_count": 14,
   "metadata": {},
   "outputs": [],
   "source": [
    "dss = altdss.to_dss_python() # Get a DSS-Python instance"
   ]
  },
  {
   "cell_type": "markdown",
   "metadata": {},
   "source": [
    "If you wish to compare with EPRI's COM implementation of OpenDSS instead (requires Windows), uncomment one of the blocks below (for win32com or comtypes):"
   ]
  },
  {
   "cell_type": "code",
   "execution_count": 15,
   "metadata": {},
   "outputs": [],
   "source": [
    "# import win32com.client # Unfortunately win32com is still the most recommended option, but it's the slowest\n",
    "# dss = win32com.client.gencache.EnsureDispatch('opendssengine.dss')\n",
    "# dss.Text.Command = f'redirect \"{CKT7_PATH}\"'\n",
    "\n",
    "# import comtypes.client # Prefer comtypes if you're using the official COM object\n",
    "# dss = comtypes.client.CreateObject('opendssengine.dss')\n",
    "# dss.Text.Command = f'redirect \"{CKT7_PATH}\"'"
   ]
  },
  {
   "cell_type": "markdown",
   "metadata": {},
   "source": [
    "For classic COM-like access, without using the API extensions, the equivalent would be:"
   ]
  },
  {
   "cell_type": "code",
   "execution_count": 16,
   "metadata": {},
   "outputs": [
    {
     "name": "stdout",
     "output_type": "stream",
     "text": [
      "1.43 ms ± 27.4 µs per loop (mean ± std. dev. of 7 runs, 1,000 loops each)\n"
     ]
    }
   ],
   "source": [
    "%%timeit\n",
    "powers_classic = np.zeros(dss.ActiveCircuit.Loads.Count, dtype=complex)\n",
    "idx = dss.ActiveCircuit.Loads.First\n",
    "while idx != 0:\n",
    "    powers_classic[idx - 1] = complex(*dss.ActiveCircuit.ActiveCktElement.TotalPowers)\n",
    "    idx = dss.ActiveCircuit.Loads.Next"
   ]
  },
  {
   "cell_type": "markdown",
   "metadata": {},
   "source": [
    "In AltDSS:"
   ]
  },
  {
   "cell_type": "code",
   "execution_count": 17,
   "metadata": {},
   "outputs": [
    {
     "name": "stdout",
     "output_type": "stream",
     "text": [
      "25.2 µs ± 111 ns per loop (mean ± std. dev. of 7 runs, 10,000 loops each)\n"
     ]
    }
   ],
   "source": [
    "%%timeit\n",
    "powers_alt = altdss.Load.TotalPowers()"
   ]
  },
  {
   "cell_type": "markdown",
   "metadata": {},
   "source": [
    "The times are very different, but do the results match? Sure, the same numerical results:"
   ]
  },
  {
   "cell_type": "code",
   "execution_count": 18,
   "metadata": {},
   "outputs": [],
   "source": [
    "powers_alt = altdss.Load.TotalPowers()\n",
    "powers_classic = np.zeros(dss.ActiveCircuit.Loads.Count, dtype=complex)\n",
    "idx = dss.ActiveCircuit.Loads.First\n",
    "while idx != 0:\n",
    "    powers_classic[idx - 1] = complex(*dss.ActiveCircuit.ActiveCktElement.TotalPowers)\n",
    "    idx = dss.ActiveCircuit.Loads.Next\n",
    "\n",
    "np.testing.assert_array_equal(powers_classic, powers_alt)"
   ]
  },
  {
   "cell_type": "markdown",
   "metadata": {},
   "source": [
    "The main difference is the effort spent by the Python interpreter to create an array or list for each element in the loop, and calling the functions multiple times. It is common to get 10-100x speed-up in this kind of operation. There are minor optimizations that could be done with the classic API, but it's not possible to achieve nearly the same performance.\n",
    "\n",
    "Although not widely advertised, DSS-Python (and OpenDSSDirect.py) are typically faster than the official COM object for many of the operations illustrated above. That's in part due to COM itself, part due to how win32com and comtypes are implemented, and part due to optimization done in DSS C-API.  \n",
    "That said, don't be surprised it the time ratio between the COM impl. vs. the batch API from AltDSS reaches 1000x."
   ]
  },
  {
   "cell_type": "markdown",
   "metadata": {},
   "source": [
    "## Using the DSS properties\n",
    "\n",
    "Using the DSS properties as seem in .DSS scripts can also be applied to batches."
   ]
  },
  {
   "cell_type": "code",
   "execution_count": 19,
   "metadata": {},
   "outputs": [
    {
     "name": "stdout",
     "output_type": "stream",
     "text": [
      "416 µs ± 7.25 µs per loop (mean ± std. dev. of 7 runs, 1,000 loops each)\n"
     ]
    }
   ],
   "source": [
    "%%timeit\n",
    "power_spec_classic = np.zeros(dss.ActiveCircuit.Loads.Count, dtype=complex)\n",
    "idx = dss.ActiveCircuit.Loads.First\n",
    "while idx != 0:\n",
    "    power_spec_classic[idx - 1] = complex(dss.ActiveCircuit.Loads.kW, dss.ActiveCircuit.Loads.kvar)\n",
    "    idx = dss.ActiveCircuit.Loads.Next"
   ]
  },
  {
   "cell_type": "code",
   "execution_count": 20,
   "metadata": {},
   "outputs": [
    {
     "name": "stdout",
     "output_type": "stream",
     "text": [
      "13.2 µs ± 25.7 ns per loop (mean ± std. dev. of 7 runs, 100,000 loops each)\n"
     ]
    }
   ],
   "source": [
    "%%timeit\n",
    "power_spec_alt = altdss.Load.kW + altdss.Load.kvar * 1j"
   ]
  },
  {
   "cell_type": "markdown",
   "metadata": {},
   "source": [
    "Again, let's check:"
   ]
  },
  {
   "cell_type": "code",
   "execution_count": 21,
   "metadata": {},
   "outputs": [],
   "source": [
    "power_spec_classic = np.zeros(dss.ActiveCircuit.Loads.Count, dtype=complex)\n",
    "idx = dss.ActiveCircuit.Loads.First\n",
    "while idx != 0:\n",
    "    power_spec_classic[idx - 1] = complex(dss.ActiveCircuit.Loads.kW, dss.ActiveCircuit.Loads.kvar)\n",
    "    idx = dss.ActiveCircuit.Loads.Next\n",
    "\n",
    "power_spec_alt = altdss.Load.kW + altdss.Load.kvar * 1j\n",
    "\n",
    "np.testing.assert_array_equal(power_spec_classic, power_spec_alt)"
   ]
  },
  {
   "cell_type": "markdown",
   "metadata": {},
   "source": [
    "In this case, there are no further allocations for arrays or buffers, we are just getting the internal `float64` values for the \"kW\" and \"kvar\" DSS properties. Still, we can get around 30x speed-up on a simple test by using batches in AltDSS."
   ]
  },
  {
   "cell_type": "markdown",
   "metadata": {},
   "source": [
    "Technically, most DSS classes do not expose all properties in the API classes (COM or DDLL). For those, one would need to use either the Properties API, or the Text API. Both may result in some loss of precision in the values."
   ]
  },
  {
   "cell_type": "code",
   "execution_count": 22,
   "metadata": {},
   "outputs": [
    {
     "name": "stdout",
     "output_type": "stream",
     "text": [
      "2.4 ms ± 9.26 µs per loop (mean ± std. dev. of 7 runs, 100 loops each)\n"
     ]
    }
   ],
   "source": [
    "%%timeit\n",
    "power_spec_classic_prop = np.zeros(dss.ActiveCircuit.Loads.Count, dtype=complex)\n",
    "idx = dss.ActiveCircuit.Loads.First\n",
    "while idx != 0:\n",
    "    power_spec_classic_prop[idx - 1] = complex(\n",
    "        float(dss.ActiveCircuit.ActiveDSSElement.Properties('kW').Val), \n",
    "        float(dss.ActiveCircuit.ActiveDSSElement.Properties('kvar').Val)\n",
    "    )\n",
    "    idx = dss.ActiveCircuit.Loads.Next"
   ]
  },
  {
   "cell_type": "code",
   "execution_count": 23,
   "metadata": {},
   "outputs": [
    {
     "name": "stdout",
     "output_type": "stream",
     "text": [
      "3.5 ms ± 17.1 µs per loop (mean ± std. dev. of 7 runs, 100 loops each)\n"
     ]
    }
   ],
   "source": [
    "%%timeit\n",
    "power_spec_classic_prop = np.zeros(dss.ActiveCircuit.Loads.Count, dtype=complex)\n",
    "idx = dss.ActiveCircuit.Loads.First\n",
    "while idx != 0:\n",
    "    dss.Text.Command = '? kW'\n",
    "    kW =  dss.Text.Result\n",
    "    dss.Text.Command = '? kvar'\n",
    "    kvar = dss.Text.Result\n",
    "\n",
    "    power_spec_classic_prop[idx - 1] = complex(\n",
    "        float(kW), \n",
    "        float(kvar)\n",
    "    )\n",
    "    idx = dss.ActiveCircuit.Loads.Next"
   ]
  },
  {
   "cell_type": "markdown",
   "metadata": {},
   "source": [
    "We can see that these alternatives can take a lot longer, in the range 100-300x vs. the batch approach in AltDSS."
   ]
  },
  {
   "cell_type": "markdown",
   "metadata": {},
   "source": [
    "For comparison, here's the time to run a simple snapshot solution:"
   ]
  },
  {
   "cell_type": "code",
   "execution_count": 24,
   "metadata": {},
   "outputs": [
    {
     "name": "stdout",
     "output_type": "stream",
     "text": [
      "1.99 ms ± 45.4 µs per loop (mean ± std. dev. of 7 runs, 1,000 loops each)\n"
     ]
    }
   ],
   "source": [
    "%timeit altdss(f'solve mode=snap')"
   ]
  },
  {
   "cell_type": "markdown",
   "metadata": {},
   "source": [
    "As we can see, using the classic Text or Properties APIs to get the property values can be very expensive, reaching beyond the time required to actually solve the circuit."
   ]
  },
  {
   "cell_type": "markdown",
   "metadata": {},
   "source": [
    "## Filtered batches\n",
    "\n",
    "Although performance benefits are nice, it can become cumbersome to get arrays and then have to filter them in a separate, sometimes complicated loop.\n",
    "\n",
    "To avoid this, batches support filtering:\n",
    "- If you have a specific list of elements, you can create a batch for those (`idx` keyword argument)\n",
    "- You can use integer and float DSS properties to select objects\n",
    "- You can later filter an existing batch to create another"
   ]
  },
  {
   "cell_type": "markdown",
   "metadata": {},
   "source": [
    "### Batches from indices\n",
    "\n",
    "AltDSS uses 0-based indices for this. "
   ]
  },
  {
   "cell_type": "code",
   "execution_count": 25,
   "metadata": {},
   "outputs": [
    {
     "name": "stdout",
     "output_type": "stream",
     "text": [
      "['25609_a', '25627_b', '25617_c', '25603_a']\n",
      "[2474.93608703 2366.93848343 1517.96030515 1447.96260768]\n"
     ]
    }
   ],
   "source": [
    "some_loads = altdss.Load.batch(idx=[0, 10, 20, 30])\n",
    "print(some_loads.Name)\n",
    "print(abs(some_loads.TotalPowers()))"
   ]
  },
  {
   "cell_type": "markdown",
   "metadata": {},
   "source": [
    "This kind of batch is especially useful if you want to filter the loads using an external function. For example, let's get the loads that result in more than 300 A each:"
   ]
  },
  {
   "cell_type": "code",
   "execution_count": 26,
   "metadata": {},
   "outputs": [
    {
     "data": {
      "text/plain": [
       "['25609_a',\n",
       " '25609_b',\n",
       " '25609_c',\n",
       " '25615_a',\n",
       " '25615_b',\n",
       " '25615_c',\n",
       " '25627_a',\n",
       " '25627_b',\n",
       " '25627_c',\n",
       " '25629_b',\n",
       " '25629_c',\n",
       " '25601_a',\n",
       " '25601_b',\n",
       " '25601_c',\n",
       " '25605_a',\n",
       " '25605_c',\n",
       " '1001933-d1',\n",
       " '1001933-d2',\n",
       " '1001933-d3',\n",
       " '1001665-d1',\n",
       " '1001665-d2',\n",
       " '1001665-d3',\n",
       " '1001577-d1',\n",
       " '1001577-d2',\n",
       " '1001577-d3']"
      ]
     },
     "execution_count": 26,
     "metadata": {},
     "output_type": "execute_result"
    }
   ],
   "source": [
    "loads_300A = altdss.Load.batch(idx=np.where(altdss.Load.MaxCurrent(-1) > 300))\n",
    "loads_300A.Name"
   ]
  },
  {
   "cell_type": "markdown",
   "metadata": {},
   "source": [
    "The batch can be converted to a list of Python objects using the `to_list` method or using the call operator. This way, each of this loads could be inspected individually, if the batch operations don't fit well in the analysis."
   ]
  },
  {
   "cell_type": "code",
   "execution_count": 27,
   "metadata": {},
   "outputs": [
    {
     "data": {
      "text/plain": [
       "[<Load.25609_a>,\n",
       " <Load.25609_b>,\n",
       " <Load.25609_c>,\n",
       " <Load.25615_a>,\n",
       " <Load.25615_b>,\n",
       " <Load.25615_c>,\n",
       " <Load.25627_a>,\n",
       " <Load.25627_b>,\n",
       " <Load.25627_c>,\n",
       " <Load.25629_b>,\n",
       " <Load.25629_c>,\n",
       " <Load.25601_a>,\n",
       " <Load.25601_b>,\n",
       " <Load.25601_c>,\n",
       " <Load.25605_a>,\n",
       " <Load.25605_c>,\n",
       " <Load.1001933-d1>,\n",
       " <Load.1001933-d2>,\n",
       " <Load.1001933-d3>,\n",
       " <Load.1001665-d1>,\n",
       " <Load.1001665-d2>,\n",
       " <Load.1001665-d3>,\n",
       " <Load.1001577-d1>,\n",
       " <Load.1001577-d2>,\n",
       " <Load.1001577-d3>]"
      ]
     },
     "execution_count": 27,
     "metadata": {},
     "output_type": "execute_result"
    }
   ],
   "source": [
    "loads_300A.to_list()"
   ]
  },
  {
   "cell_type": "code",
   "execution_count": 28,
   "metadata": {},
   "outputs": [
    {
     "data": {
      "text/plain": [
       "[<Load.25609_a>,\n",
       " <Load.25609_b>,\n",
       " <Load.25609_c>,\n",
       " <Load.25615_a>,\n",
       " <Load.25615_b>,\n",
       " <Load.25615_c>,\n",
       " <Load.25627_a>,\n",
       " <Load.25627_b>,\n",
       " <Load.25627_c>,\n",
       " <Load.25629_b>,\n",
       " <Load.25629_c>,\n",
       " <Load.25601_a>,\n",
       " <Load.25601_b>,\n",
       " <Load.25601_c>,\n",
       " <Load.25605_a>,\n",
       " <Load.25605_c>,\n",
       " <Load.1001933-d1>,\n",
       " <Load.1001933-d2>,\n",
       " <Load.1001933-d3>,\n",
       " <Load.1001665-d1>,\n",
       " <Load.1001665-d2>,\n",
       " <Load.1001665-d3>,\n",
       " <Load.1001577-d1>,\n",
       " <Load.1001577-d2>,\n",
       " <Load.1001577-d3>]"
      ]
     },
     "execution_count": 28,
     "metadata": {},
     "output_type": "execute_result"
    }
   ],
   "source": [
    "loads_300A()"
   ]
  },
  {
   "cell_type": "markdown",
   "metadata": {},
   "source": [
    "### Batches by filtering integer (DSS) properties\n",
    "\n",
    "Any integer property can be used. Let's get all three-phase loads:"
   ]
  },
  {
   "cell_type": "code",
   "execution_count": 29,
   "metadata": {},
   "outputs": [
    {
     "name": "stdout",
     "output_type": "stream",
     "text": [
      "333\n"
     ]
    }
   ],
   "source": [
    "loads_3ph = altdss.Load.batch(Phases=3)\n",
    "print(len(loads_3ph))"
   ]
  },
  {
   "cell_type": "markdown",
   "metadata": {},
   "source": [
    "As expected from the dataframe in the \"Loading the circuit\" section, we get 333 three-phase loads."
   ]
  },
  {
   "cell_type": "markdown",
   "metadata": {},
   "source": [
    "### Batches by filtering float (DSS) properties\n",
    "\n",
    "The recommended way to filter floating-point properties, especially nonzero values, is to use a range of values represented as a tuple. If you just have a lower (or higher) limit, use a very large (or small) value as the other limit:"
   ]
  },
  {
   "cell_type": "code",
   "execution_count": 30,
   "metadata": {},
   "outputs": [
    {
     "data": {
      "text/plain": [
       "15"
      ]
     },
     "execution_count": 30,
     "metadata": {},
     "output_type": "execute_result"
    }
   ],
   "source": [
    "loads_gt2MW = altdss.Load.batch(kW=(2000, 1e10))\n",
    "\n",
    "len(loads_gt2MW.kW)"
   ]
  },
  {
   "cell_type": "markdown",
   "metadata": {},
   "source": [
    "### Filtering an existing batch\n",
    "\n",
    "Just apply the batch function again:"
   ]
  },
  {
   "cell_type": "code",
   "execution_count": 31,
   "metadata": {},
   "outputs": [
    {
     "data": {
      "text/plain": [
       "array([110.86689132, 110.86689132, 110.86689132, 110.86689132,\n",
       "       110.86689132, 110.86689132])"
      ]
     },
     "execution_count": 31,
     "metadata": {},
     "output_type": "execute_result"
    }
   ],
   "source": [
    "loads_3ph_100to200kW = loads_3ph.batch(kW=(100, 200))\n",
    "loads_3ph_100to200kW.kW()"
   ]
  },
  {
   "cell_type": "markdown",
   "metadata": {},
   "source": [
    "### Combining filters\n",
    "\n",
    "Multiple filters can be used at once. It can be useful to separate elements into multiple categories. Using properties:"
   ]
  },
  {
   "cell_type": "code",
   "execution_count": 32,
   "metadata": {},
   "outputs": [],
   "source": [
    "loads_3ph_100to200kW = altdss.Load.batch(Phases=3, kW=(100, 200))"
   ]
  },
  {
   "cell_type": "markdown",
   "metadata": {},
   "source": [
    "Using indices (from the main collection, always applied first) and properties combined:"
   ]
  },
  {
   "cell_type": "code",
   "execution_count": 33,
   "metadata": {},
   "outputs": [
    {
     "data": {
      "text/plain": [
       "['1001933-d1',\n",
       " '1001933-d2',\n",
       " '1001933-d3',\n",
       " '1001665-d1',\n",
       " '1001665-d2',\n",
       " '1001665-d3']"
      ]
     },
     "execution_count": 33,
     "metadata": {},
     "output_type": "execute_result"
    }
   ],
   "source": [
    "batch_combined_filter = altdss.Load.batch(idx=np.where(altdss.Load.MaxCurrent(-1) > 300), Phases=3, kW=(100, 200))\n",
    "batch_combined_filter.Name"
   ]
  },
  {
   "cell_type": "markdown",
   "metadata": {},
   "source": [
    "For fun, let's compare how this last expression would be implemented in the classic API (assuming the same order of operations):"
   ]
  },
  {
   "cell_type": "code",
   "execution_count": 34,
   "metadata": {},
   "outputs": [],
   "source": [
    "idx = dss.ActiveCircuit.Loads.First\n",
    "CE = dss.ActiveCircuit.ActiveCktElement\n",
    "Loads = dss.ActiveCircuit.Loads\n",
    "names = []\n",
    "while idx != 0:\n",
    "    if max(CE.CurrentsMagAng[::2]) > 300 and Loads.Phases == 3 and 100 <= Loads.kW <= 200:\n",
    "        names.append(Loads.Name)\n",
    "        \n",
    "    idx = dss.ActiveCircuit.Loads.Next\n",
    "\n",
    "assert names == batch_combined_filter.Name"
   ]
  },
  {
   "cell_type": "markdown",
   "metadata": {},
   "source": [
    "And the times:"
   ]
  },
  {
   "cell_type": "code",
   "execution_count": 35,
   "metadata": {},
   "outputs": [
    {
     "name": "stdout",
     "output_type": "stream",
     "text": [
      "28.9 µs ± 1.15 µs per loop (mean ± std. dev. of 7 runs, 10,000 loops each)\n"
     ]
    }
   ],
   "source": [
    "%timeit altdss.Load.batch(idx=np.where(altdss.Load.MaxCurrent(-1) > 300), Phases=3, kW=(100, 200)).Name"
   ]
  },
  {
   "cell_type": "code",
   "execution_count": 36,
   "metadata": {},
   "outputs": [
    {
     "name": "stdout",
     "output_type": "stream",
     "text": [
      "1.52 ms ± 34.9 µs per loop (mean ± std. dev. of 7 runs, 1,000 loops each)\n"
     ]
    }
   ],
   "source": [
    "%%timeit\n",
    "idx = dss.ActiveCircuit.Loads.First\n",
    "CE = dss.ActiveCircuit.ActiveCktElement\n",
    "Loads = dss.ActiveCircuit.Loads\n",
    "names = []\n",
    "while idx != 0:\n",
    "    if max(CE.CurrentsMagAng[::2]) > 300 and CE.NumPhases == 3 and 100 <= Loads.kW <= 200:\n",
    "        names.append(Loads.Name)\n",
    "        \n",
    "    idx = dss.ActiveCircuit.Loads.Next"
   ]
  },
  {
   "cell_type": "markdown",
   "metadata": {},
   "source": [
    "## Other features and details\n",
    "\n",
    "- All batch properties support broadcast from a single value, or a list/array of values. Objects can be set by their names, or a DSS object in Python."
   ]
  },
  {
   "cell_type": "code",
   "execution_count": 37,
   "metadata": {},
   "outputs": [
    {
     "data": {
      "text/plain": [
       "[<LoadShape.default>,\n",
       " <LoadShape.default>,\n",
       " <LoadShape.default>,\n",
       " <LoadShape.default>,\n",
       " <LoadShape.default>,\n",
       " <LoadShape.default>]"
      ]
     },
     "execution_count": 37,
     "metadata": {},
     "output_type": "execute_result"
    }
   ],
   "source": [
    "batch_combined_filter.Daily = 'default'\n",
    "batch_combined_filter.Daily"
   ]
  },
  {
   "cell_type": "markdown",
   "metadata": {},
   "source": [
    "- Array proxies are used when possible. This also pushes some operations to the engine:"
   ]
  },
  {
   "cell_type": "code",
   "execution_count": 38,
   "metadata": {},
   "outputs": [
    {
     "data": {
      "text/plain": [
       "<altdss.ArrayProxy.BatchFloat64ArrayProxy at 0x7efd9d1afe30>"
      ]
     },
     "execution_count": 38,
     "metadata": {},
     "output_type": "execute_result"
    }
   ],
   "source": [
    "batch_combined_filter.kW"
   ]
  },
  {
   "cell_type": "code",
   "execution_count": 39,
   "metadata": {},
   "outputs": [
    {
     "data": {
      "text/plain": [
       "array([110.86689132, 110.86689132, 110.86689132, 110.86689132,\n",
       "       110.86689132, 110.86689132])"
      ]
     },
     "execution_count": 39,
     "metadata": {},
     "output_type": "execute_result"
    }
   ],
   "source": [
    "batch_combined_filter.kW() # convert to array (load the data from the engine and create a NumPy array"
   ]
  },
  {
   "cell_type": "code",
   "execution_count": 40,
   "metadata": {},
   "outputs": [
    {
     "data": {
      "text/plain": [
       "array([111.86689132, 111.86689132, 111.86689132, 111.86689132,\n",
       "       111.86689132, 111.86689132])"
      ]
     },
     "execution_count": 40,
     "metadata": {},
     "output_type": "execute_result"
    }
   ],
   "source": [
    "batch_combined_filter.kW + 1 # this is fine, converts to array and uses NumPy to do the sum"
   ]
  },
  {
   "cell_type": "code",
   "execution_count": 41,
   "metadata": {},
   "outputs": [],
   "source": [
    "batch_combined_filter.kW *= 1.2 # done in the engine!"
   ]
  },
  {
   "cell_type": "code",
   "execution_count": 42,
   "metadata": {},
   "outputs": [
    {
     "data": {
      "text/plain": [
       "array([133.04026958, 133.04026958, 133.04026958, 133.04026958,\n",
       "       133.04026958, 133.04026958])"
      ]
     },
     "execution_count": 42,
     "metadata": {},
     "output_type": "execute_result"
    }
   ],
   "source": [
    "batch_combined_filter.kW()"
   ]
  },
  {
   "cell_type": "markdown",
   "metadata": {},
   "source": [
    "- There are some advanced features we need to document. Sometimes it's not very apparent why some features exist. For example, the setter for each property allows for custom \"setter flags\", which preserves the current Yprim for some circuit components. E.g. this always forces new Yprim and is equivalent to (but faster than) a DSS command `edit load.LOAD_NAME kW=150` for each load in the batch:"
   ]
  },
  {
   "cell_type": "code",
   "execution_count": 43,
   "metadata": {},
   "outputs": [],
   "source": [
    "batch_combined_filter.kW = 150"
   ]
  },
  {
   "cell_type": "markdown",
   "metadata": {},
   "source": [
    "To avoid the full recalc and reproduce how the classic API kW property (`DSS.ActiveCircuit.Loads.kW`) works, we need to use a custom flag:"
   ]
  },
  {
   "cell_type": "code",
   "execution_count": 44,
   "metadata": {},
   "outputs": [],
   "source": [
    "from dss import SetterFlags\n",
    "batch_combined_filter._set_kW(150, SetterFlags.AvoidFullRecalc)"
   ]
  },
  {
   "cell_type": "markdown",
   "metadata": {},
   "source": [
    "We are studying an alternative to still use `batch_combined_filter.kW = 150` but pass the flags somehow."
   ]
  },
  {
   "cell_type": "markdown",
   "metadata": {},
   "source": [
    "#### Invalidation\n",
    "\n",
    "Like the objects and buses, batches are tracked and invalidated when the circuit is cleared, avoiding crashes and weird behavior. For example, if we clear and try to get the element names, we get an error mentioning \"InvalidatedDSSObject\":"
   ]
  },
  {
   "cell_type": "code",
   "execution_count": 45,
   "metadata": {},
   "outputs": [],
   "source": [
    "altdss.Clear()"
   ]
  },
  {
   "cell_type": "code",
   "execution_count": 46,
   "metadata": {},
   "outputs": [
    {
     "ename": "TypeError",
     "evalue": "unpack() argument 1 must be _cffi_backend._CDataBase, not InvalidatedDSSObject",
     "output_type": "error",
     "traceback": [
      "\u001b[0;31m---------------------------------------------------------------------------\u001b[0m",
      "\u001b[0;31mTypeError\u001b[0m                                 Traceback (most recent call last)",
      "Cell \u001b[0;32mIn[46], line 1\u001b[0m\n\u001b[0;32m----> 1\u001b[0m \u001b[43mbatch_combined_filter\u001b[49m\u001b[38;5;241;43m.\u001b[39;49m\u001b[43mName\u001b[49m\n",
      "File \u001b[0;32m~/projects/dss/altdss-python/altdss/Batch.py:20\u001b[0m, in \u001b[0;36mBatchCommon.Name\u001b[0;34m(self)\u001b[0m\n\u001b[1;32m     16\u001b[0m \u001b[38;5;129m@property\u001b[39m\n\u001b[1;32m     17\u001b[0m \u001b[38;5;28;01mdef\u001b[39;00m \u001b[38;5;21mName\u001b[39m(\u001b[38;5;28mself\u001b[39m) \u001b[38;5;241m-\u001b[39m\u001b[38;5;241m>\u001b[39m List[\u001b[38;5;28mstr\u001b[39m]:\n\u001b[1;32m     18\u001b[0m     res \u001b[38;5;241m=\u001b[39m [\n\u001b[1;32m     19\u001b[0m         \u001b[38;5;28mself\u001b[39m\u001b[38;5;241m.\u001b[39m_ffi\u001b[38;5;241m.\u001b[39mstring(\u001b[38;5;28mself\u001b[39m\u001b[38;5;241m.\u001b[39m_lib\u001b[38;5;241m.\u001b[39mObj_GetName(ptr))\u001b[38;5;241m.\u001b[39mdecode(\u001b[38;5;28mself\u001b[39m\u001b[38;5;241m.\u001b[39m_api_util\u001b[38;5;241m.\u001b[39mcodec)\n\u001b[0;32m---> 20\u001b[0m         \u001b[38;5;28;01mfor\u001b[39;00m ptr \u001b[38;5;129;01min\u001b[39;00m \u001b[38;5;28;43mself\u001b[39;49m\u001b[38;5;241;43m.\u001b[39;49m\u001b[43m_unpack\u001b[49m\u001b[43m(\u001b[49m\u001b[43m)\u001b[49m\n\u001b[1;32m     21\u001b[0m     ]\n\u001b[1;32m     22\u001b[0m     \u001b[38;5;28mself\u001b[39m\u001b[38;5;241m.\u001b[39m_check_for_error()\n\u001b[1;32m     23\u001b[0m     \u001b[38;5;28;01mreturn\u001b[39;00m res\n",
      "File \u001b[0;32m~/projects/dss/altdss-python/altdss/Batch.py:58\u001b[0m, in \u001b[0;36mBatchCommon._unpack\u001b[0;34m(self)\u001b[0m\n\u001b[1;32m     55\u001b[0m \u001b[38;5;28;01mif\u001b[39;00m \u001b[38;5;129;01mnot\u001b[39;00m cnt:\n\u001b[1;32m     56\u001b[0m     \u001b[38;5;28;01mreturn\u001b[39;00m []\n\u001b[0;32m---> 58\u001b[0m \u001b[38;5;28;01mreturn\u001b[39;00m \u001b[38;5;28;43mself\u001b[39;49m\u001b[38;5;241;43m.\u001b[39;49m\u001b[43m_ffi\u001b[49m\u001b[38;5;241;43m.\u001b[39;49m\u001b[43munpack\u001b[49m\u001b[43m(\u001b[49m\u001b[38;5;241;43m*\u001b[39;49m\u001b[38;5;28;43mself\u001b[39;49m\u001b[38;5;241;43m.\u001b[39;49m\u001b[43m_get_ptr_cnt\u001b[49m\u001b[43m(\u001b[49m\u001b[43m)\u001b[49m\u001b[43m)\u001b[49m\n",
      "\u001b[0;31mTypeError\u001b[0m: unpack() argument 1 must be _cffi_backend._CDataBase, not InvalidatedDSSObject"
     ]
    }
   ],
   "source": [
    "batch_combined_filter.Name"
   ]
  },
  {
   "cell_type": "markdown",
   "metadata": {},
   "source": [
    "## What's in the future?\n",
    "\n",
    "- Investigate adding filters for the current state instead of just DSS properties.\n",
    "- Plotting integration of batches to allow easier interactive analysis.\n",
    "- Native Apache Arrow integration for cross-language dataframes.\n",
    "- General adjustments according to user feedback.\n",
    "\n",
    "Have an idea or suggestion? Please feel free to reach out on GitHub [Issues](https://github.com/dss-extensions/dss-extensions/issues) or [Discussions]()."
   ]
  }
 ],
 "metadata": {
  "kernelspec": {
   "display_name": "Python 3 (ipykernel)",
   "language": "python",
   "name": "python3"
  },
  "language_info": {
   "codemirror_mode": {
    "name": "ipython",
    "version": 3
   },
   "file_extension": ".py",
   "mimetype": "text/x-python",
   "name": "python",
   "nbconvert_exporter": "python",
   "pygments_lexer": "ipython3",
   "version": "3.12.2"
  }
 },
 "nbformat": 4,
 "nbformat_minor": 4
}
