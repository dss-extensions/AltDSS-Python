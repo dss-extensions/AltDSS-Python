{
 "cells": [
  {
   "cell_type": "markdown",
   "metadata": {},
   "source": [
    "# Getting Started"
   ]
  },
  {
   "cell_type": "markdown",
   "metadata": {},
   "source": [
    "This document provides an overview of some of the AltDSS-Python's features, especially for new users. It is exposed as the `altdss` package.\n"
   ]
  },
  {
   "cell_type": "markdown",
   "metadata": {},
   "source": [
    "**Notebook requirements**\n",
    "\n",
    "This is a Jupyter notebook. Running it as-is will try to download the required files.\n",
    "\n",
    "You can open and then run this notebook on Google Colab for a quick overview if you don't want to set up a local environment: **[Open in Colab](https://colab.research.google.com/github/dss-extensions/AltDSS-Python/blob/master/docs/examples/GettingStarted.ipynb)**."
   ]
  },
  {
   "cell_type": "code",
   "execution_count": 1,
   "metadata": {},
   "outputs": [],
   "source": [
    "# When running via Colab, install the package first\n",
    "import os, subprocess\n",
    "if os.getenv(\"COLAB_RELEASE_TAG\"):\n",
    "    print(subprocess.check_output('pip install altdss[all]', shell=True).decode())"
   ]
  },
  {
   "cell_type": "code",
   "execution_count": 2,
   "metadata": {},
   "outputs": [],
   "source": [
    "# Download the sample circuits and test cases if they do not exist already\n",
    "from dss.examples import download_repo_snapshot\n",
    "BASE_PATH = download_repo_snapshot('.', repo_name='electricdss-tst', use_version=False)\n",
    "IEEE13_PATH = BASE_PATH / 'Version8/Distrib/IEEETestCases/13Bus/IEEE13Nodeckt.dss'\n",
    "assert IEEE13_PATH.exists()\n",
    "\n",
    "IEEE8500_PATH = BASE_PATH / 'Version8/Distrib/IEEETestCases/8500-Node/Master.dss'\n",
    "assert IEEE8500_PATH.exists()"
   ]
  },
  {
   "cell_type": "markdown",
   "metadata": {},
   "source": [
    "If you are reading this notebook online and would like to run in your local Python installation, you can download both the DSS-Python repository (which contains this notebook) and the sample circuits with `download_examples`.\n",
    "\n",
    "On Windows, run on a command prompt in your Python environment to install all optional dependencies:\n",
    "\n",
    "```batch\n",
    "pip install dss-python[all]\n",
    "python -c \"from dss.examples import download_examples; download_examples(r'c:\\temp', repo_name='AltDSS-Python')\"\n",
    "cd c:\\temp\\AltDSS-Python\\docs\\examples\n",
    "jupyter lab\n",
    "```\n"
   ]
  },
  {
   "attachments": {},
   "cell_type": "markdown",
   "metadata": {},
   "source": [
    "## Basics\n",
    "\n",
    "AltDSS-Python is an effort in the [DSS-Extensions](https://dss-extensions.org/) project. As such, it doesn't require EPRI's OpenDSS to be installed. It provides its own customized engine, which in turn enables us to run the DSS engine on Windows, Linux and macOS (including newer Apple ARM processors, a.k.a. \"Apple Silicon\")."
   ]
  },
  {
   "attachments": {},
   "cell_type": "markdown",
   "metadata": {},
   "source": [
    "To use it, after installation, open a Python interpreter and type the following command:"
   ]
  },
  {
   "cell_type": "code",
   "execution_count": 3,
   "metadata": {},
   "outputs": [],
   "source": [
    "from altdss import altdss"
   ]
  },
  {
   "cell_type": "markdown",
   "metadata": {},
   "source": [
    "This imports the default instance, which is bound to the default DSS engine. It collapses the `ActiveCircuit` into the main class, so it's closer to OpenDSSDirect.py in this aspect."
   ]
  },
  {
   "cell_type": "markdown",
   "metadata": {},
   "source": [
    "Which DSS-Python tries to be very compatible with the official OpenDSS COM object organization of classes and properties, and OpenDSSDirect.py prefers using functions/methods for property getters/setters, AltDSS-Python uses a different approach.\n",
    "\n",
    "Like the modern versions of our other Python packages, you can pass multiple commands in a big string (without negative performance impacts):"
   ]
  },
  {
   "cell_type": "code",
   "execution_count": 4,
   "metadata": {},
   "outputs": [],
   "source": [
    "altdss(f'''\n",
    "    Clear\n",
    "    Redirect \"{IEEE13_PATH}\"\n",
    "''')"
   ]
  },
  {
   "cell_type": "markdown",
   "metadata": {},
   "source": [
    "Some classes, properties and methods are still present. They may be adjusted for future versions, if required:"
   ]
  },
  {
   "cell_type": "code",
   "execution_count": 5,
   "metadata": {},
   "outputs": [
    {
     "data": {
      "text/plain": [
       "array([66393.52539552, 66394.8697918 , 66391.9679481 ,  2401.56281971,\n",
       "        2401.70707917,  2401.61163242,  2536.35618639,  2491.56916753,\n",
       "        2536.39597012,  2428.91682366,  2466.67017218,  2405.47534155,\n",
       "         273.56904918,   279.46191055,   272.263543  ,  2360.45472436,\n",
       "        2498.51583289,  2317.41727729,  2449.16595034,  2407.23753262,\n",
       "        2445.04461469,  2402.35182009,  2317.4172594 ,  2360.45470186,\n",
       "        2498.51583016,  2344.78388971,  2504.17602597,  2312.77119003,\n",
       "        2307.69876166,  2342.53046877,  2411.44105223,  2478.32688291,\n",
       "        2377.14162241,  2436.22416628,  2471.29925961,  2411.83511918,\n",
       "        2360.45475448,  2498.51586854,  2317.41731041,  2355.83530743,\n",
       "        2312.54108638])"
      ]
     },
     "execution_count": 5,
     "metadata": {},
     "output_type": "execute_result"
    }
   ],
   "source": [
    "# This was AllBusVmag. The \"All\" was kinda redundant.\n",
    "altdss.BusVmag()"
   ]
  },
  {
   "cell_type": "code",
   "execution_count": 6,
   "metadata": {},
   "outputs": [],
   "source": [
    "from dss import SolveModes\n",
    "altdss.Solution.Mode = SolveModes.SnapShot\n",
    "altdss.Solution.Solve()"
   ]
  },
  {
   "cell_type": "markdown",
   "metadata": {},
   "source": [
    "If you need DSS-Python or OpenDSSDirect.py to complement something:"
   ]
  },
  {
   "cell_type": "code",
   "execution_count": 7,
   "metadata": {},
   "outputs": [
    {
     "name": "stdout",
     "output_type": "stream",
     "text": [
      "DSS C-API Library version DEV revision UNKNOWN based on OpenDSS SVN UNKNOWN [FPC 3.2.2] (64-bit build) MVMULT INCREMENTAL_Y CONTEXT_API PM 20240215181806; License Status: Open \n",
      "DSS-Python version: 0.15.0b1.post12+g818cb41.d20240124\n"
     ]
    }
   ],
   "source": [
    "dss = altdss.to_dss_python()\n",
    "print(dss.Version)"
   ]
  },
  {
   "cell_type": "code",
   "execution_count": 8,
   "metadata": {},
   "outputs": [
    {
     "name": "stdout",
     "output_type": "stream",
     "text": [
      "DSS C-API Library version DEV revision UNKNOWN based on OpenDSS SVN UNKNOWN [FPC 3.2.2] (64-bit build) MVMULT INCREMENTAL_Y CONTEXT_API PM 20240215181806; License Status: Open \n",
      "DSS-Python version: 0.15.0b1.post12+g818cb41.d20240124\n",
      "OpenDSSDirect.py version: 0.8.4.post31+g9793291.d20240124\n"
     ]
    }
   ],
   "source": [
    "odd = altdss.to_opendssdirect()\n",
    "print(odd.Version())"
   ]
  },
  {
   "cell_type": "code",
   "execution_count": 9,
   "metadata": {},
   "outputs": [
    {
     "data": {
      "text/plain": [
       "(-3567.022201208932-1736.4085202212455j)"
      ]
     },
     "execution_count": 9,
     "metadata": {},
     "output_type": "execute_result"
    }
   ],
   "source": [
    "altdss.TotalPower()"
   ]
  },
  {
   "cell_type": "markdown",
   "metadata": {},
   "source": [
    "Multiple instances are also supported, so you can use multithreading (see ODD.py or DSS-Python's examples):"
   ]
  },
  {
   "cell_type": "code",
   "execution_count": 10,
   "metadata": {},
   "outputs": [
    {
     "data": {
      "text/plain": [
       "((-3567.022201208932-1736.4085202212455j),\n",
       " (-4306.902075243575-2318.447275626252j))"
      ]
     },
     "execution_count": 10,
     "metadata": {},
     "output_type": "execute_result"
    }
   ],
   "source": [
    "altdss.Settings.AllowChangeDir = False\n",
    "altdss2 = altdss.NewContext()\n",
    "\n",
    "altdss2(f'Redirect \"{IEEE13_PATH}\"')\n",
    "\n",
    "altdss2.Solution.LoadMult = 1.2\n",
    "altdss2.Solution.Solve()\n",
    "\n",
    "altdss.TotalPower(), altdss2.TotalPower()\n"
   ]
  },
  {
   "cell_type": "markdown",
   "metadata": {},
   "source": [
    "## Buses in Python"
   ]
  },
  {
   "cell_type": "markdown",
   "metadata": {},
   "source": [
    "Buses are now dedicated objects, including batches."
   ]
  },
  {
   "cell_type": "code",
   "execution_count": 11,
   "metadata": {},
   "outputs": [
    {
     "data": {
      "text/plain": [
       "16"
      ]
     },
     "execution_count": 11,
     "metadata": {},
     "output_type": "execute_result"
    }
   ],
   "source": [
    "len(altdss.Bus)"
   ]
  },
  {
   "cell_type": "code",
   "execution_count": 12,
   "metadata": {},
   "outputs": [
    {
     "data": {
      "text/plain": [
       "array([3, 3, 3, 3, 3, 3, 2, 2, 3, 3, 1, 1, 3, 3, 3, 2], dtype=int32)"
      ]
     },
     "execution_count": 12,
     "metadata": {},
     "output_type": "execute_result"
    }
   ],
   "source": [
    "# NumNodes for all buses\n",
    "altdss.Bus.NumNodes()"
   ]
  },
  {
   "cell_type": "code",
   "execution_count": 13,
   "metadata": {},
   "outputs": [],
   "source": [
    "bus0 = altdss.Bus[0]"
   ]
  },
  {
   "cell_type": "code",
   "execution_count": 14,
   "metadata": {},
   "outputs": [
    {
     "data": {
      "text/plain": [
       "array([-3.63797881e-12+4.31951048e-06j,  5.75034626e+04+3.31879898e+04j,\n",
       "       -7.75926487e-01+1.48598276e+00j])"
      ]
     },
     "execution_count": 14,
     "metadata": {},
     "output_type": "execute_result"
    }
   ],
   "source": [
    "bus0.ComplexSeqVoltages"
   ]
  },
  {
   "cell_type": "code",
   "execution_count": 15,
   "metadata": {},
   "outputs": [
    {
     "data": {
      "text/plain": [
       "3"
      ]
     },
     "execution_count": 15,
     "metadata": {},
     "output_type": "execute_result"
    }
   ],
   "source": [
    "bus0.NumNodes"
   ]
  },
  {
   "cell_type": "code",
   "execution_count": 16,
   "metadata": {},
   "outputs": [
    {
     "data": {
      "text/plain": [
       "'sourcebus'"
      ]
     },
     "execution_count": 16,
     "metadata": {},
     "output_type": "execute_result"
    }
   ],
   "source": [
    "bus0.Name"
   ]
  },
  {
   "cell_type": "code",
   "execution_count": 17,
   "metadata": {},
   "outputs": [
    {
     "data": {
      "text/plain": [
       "66.39528095680697"
      ]
     },
     "execution_count": 17,
     "metadata": {},
     "output_type": "execute_result"
    }
   ],
   "source": [
    "bus0.kVBase"
   ]
  },
  {
   "cell_type": "code",
   "execution_count": 18,
   "metadata": {},
   "outputs": [
    {
     "data": {
      "text/plain": [
       "{'Name': 'sourcebus', 'X': 200.0, 'Y': 400.0, 'kVLN': 66.39528095680697}"
      ]
     },
     "execution_count": 18,
     "metadata": {},
     "output_type": "execute_result"
    }
   ],
   "source": [
    "import json\n",
    "json.loads(bus0.to_json())"
   ]
  },
  {
   "cell_type": "markdown",
   "metadata": {},
   "source": [
    "## DSS Objects in Python\n",
    "\n",
    "For example, let's get the list of DSS classes from the classic API."
   ]
  },
  {
   "cell_type": "code",
   "execution_count": 19,
   "metadata": {},
   "outputs": [
    {
     "name": "stdout",
     "output_type": "stream",
     "text": [
      "LineCode 36\n",
      "LoadShape 1\n",
      "TShape 0\n",
      "PriceShape 0\n",
      "XYcurve 0\n",
      "GrowthShape 1\n",
      "TCC_Curve 10\n",
      "Spectrum 7\n",
      "WireData 0\n",
      "CNData 0\n",
      "TSData 0\n",
      "LineSpacing 0\n",
      "LineGeometry 0\n",
      "XfmrCode 0\n",
      "Line 12\n",
      "Vsource 1\n",
      "Isource 0\n",
      "VCCS 0\n",
      "Load 15\n",
      "Transformer 5\n",
      "RegControl 3\n",
      "Capacitor 2\n",
      "Reactor 0\n",
      "CapControl 0\n",
      "Fault 0\n",
      "DynamicExp 0\n",
      "Generator 0\n",
      "GenDispatcher 0\n",
      "Storage 0\n",
      "StorageController 0\n",
      "Relay 0\n",
      "Recloser 0\n",
      "Fuse 0\n",
      "SwtControl 0\n",
      "PVSystem 0\n",
      "UPFC 0\n",
      "UPFCControl 0\n",
      "ESPVLControl 0\n",
      "IndMach012 0\n",
      "GICsource 0\n",
      "AutoTrans 0\n",
      "InvControl 0\n",
      "ExpControl 0\n",
      "GICLine 0\n",
      "GICTransformer 0\n",
      "VSConverter 0\n",
      "Monitor 0\n",
      "EnergyMeter 0\n",
      "Sensor 0\n"
     ]
    }
   ],
   "source": [
    "dss = altdss.to_dss_python()\n",
    "for cls_name in dss.Classes:\n",
    "    cls = getattr(altdss, cls_name)\n",
    "    print(cls_name, len(cls))"
   ]
  },
  {
   "cell_type": "markdown",
   "metadata": {},
   "source": [
    "Let's try of the classes. `Load`, for example:"
   ]
  },
  {
   "cell_type": "code",
   "execution_count": 20,
   "metadata": {},
   "outputs": [
    {
     "data": {
      "text/plain": [
       "<altdss.Load.ILoad at 0x7fb847b23240>"
      ]
     },
     "execution_count": 20,
     "metadata": {},
     "output_type": "execute_result"
    }
   ],
   "source": [
    "altdss.Load"
   ]
  },
  {
   "cell_type": "code",
   "execution_count": 21,
   "metadata": {},
   "outputs": [
    {
     "data": {
      "text/plain": [
       "15"
      ]
     },
     "execution_count": 21,
     "metadata": {},
     "output_type": "execute_result"
    }
   ],
   "source": [
    "len(altdss.Load)"
   ]
  },
  {
   "cell_type": "code",
   "execution_count": 22,
   "metadata": {},
   "outputs": [
    {
     "data": {
      "text/plain": [
       "['671',\n",
       " '634a',\n",
       " '634b',\n",
       " '634c',\n",
       " '645',\n",
       " '646',\n",
       " '692',\n",
       " '675a',\n",
       " '675b',\n",
       " '675c',\n",
       " '611',\n",
       " '652',\n",
       " '670a',\n",
       " '670b',\n",
       " '670c']"
      ]
     },
     "execution_count": 22,
     "metadata": {},
     "output_type": "execute_result"
    }
   ],
   "source": [
    "# this is an intrinsic property, so it's a plain Python property\n",
    "altdss.Load.Name"
   ]
  },
  {
   "cell_type": "code",
   "execution_count": 23,
   "metadata": {},
   "outputs": [
    {
     "data": {
      "text/plain": [
       "['Load.671',\n",
       " 'Load.634a',\n",
       " 'Load.634b',\n",
       " 'Load.634c',\n",
       " 'Load.645',\n",
       " 'Load.646',\n",
       " 'Load.692',\n",
       " 'Load.675a',\n",
       " 'Load.675b',\n",
       " 'Load.675c',\n",
       " 'Load.611',\n",
       " 'Load.652',\n",
       " 'Load.670a',\n",
       " 'Load.670b',\n",
       " 'Load.670c']"
      ]
     },
     "execution_count": 23,
     "metadata": {},
     "output_type": "execute_result"
    }
   ],
   "source": [
    "# this is a derived property, so by convention it's a function\n",
    "altdss.Load.FullName()"
   ]
  },
  {
   "cell_type": "code",
   "execution_count": 24,
   "metadata": {},
   "outputs": [
    {
     "data": {
      "text/plain": [
       "[<Load.671>,\n",
       " <Load.634a>,\n",
       " <Load.634b>,\n",
       " <Load.634c>,\n",
       " <Load.645>,\n",
       " <Load.646>,\n",
       " <Load.692>,\n",
       " <Load.675a>,\n",
       " <Load.675b>,\n",
       " <Load.675c>,\n",
       " <Load.611>,\n",
       " <Load.652>,\n",
       " <Load.670a>,\n",
       " <Load.670b>,\n",
       " <Load.670c>]"
      ]
     },
     "execution_count": 24,
     "metadata": {},
     "output_type": "execute_result"
    }
   ],
   "source": [
    "altdss.Load.to_list() # it's a list of Python objects"
   ]
  },
  {
   "cell_type": "code",
   "execution_count": 25,
   "metadata": {},
   "outputs": [
    {
     "name": "stdout",
     "output_type": "stream",
     "text": [
      "671 1155.0 660.0\n",
      "634a 160.0 110.0\n",
      "634b 120.0 90.0\n",
      "634c 120.0 90.0\n",
      "645 170.0 125.0\n",
      "646 230.0 132.0\n",
      "692 170.0 151.0\n",
      "675a 485.0 190.0\n",
      "675b 68.0 60.0\n",
      "675c 290.0 212.0\n",
      "611 170.0 80.0\n",
      "652 128.0 86.0\n",
      "670a 17.0 10.0\n",
      "670b 66.0 38.0\n",
      "670c 117.0 68.0\n"
     ]
    }
   ],
   "source": [
    "for l in altdss.Load:\n",
    "    print(l.Name, l.kW, l.kvar)"
   ]
  },
  {
   "cell_type": "code",
   "execution_count": 26,
   "metadata": {},
   "outputs": [
    {
     "data": {
      "text/plain": [
       "<Load.671>"
      ]
     },
     "execution_count": 26,
     "metadata": {},
     "output_type": "execute_result"
    }
   ],
   "source": [
    "l = altdss.Load[0]\n",
    "l"
   ]
  },
  {
   "cell_type": "code",
   "execution_count": 27,
   "metadata": {},
   "outputs": [
    {
     "data": {
      "text/plain": [
       "'{\"Name\":\"671\",\"Bus1\":\"671.1.2.3\",\"Phases\":3,\"Conn\":\"delta\",\"Model\":1,\"kV\":4.1600000000000001E+000,\"kW\":1.1550000000000000E+003,\"kvar\":6.6000000000000000E+002}'"
      ]
     },
     "execution_count": 27,
     "metadata": {},
     "output_type": "execute_result"
    }
   ],
   "source": [
    "l.to_json()"
   ]
  },
  {
   "cell_type": "code",
   "execution_count": 28,
   "metadata": {},
   "outputs": [
    {
     "data": {
      "text/plain": [
       "array([ 0.04449427-0.0254253j , -0.02224713+0.01271265j,\n",
       "       -0.02224713+0.01271265j, -0.02224713+0.01271265j,\n",
       "        0.04449427-0.0254253j , -0.02224713+0.01271265j,\n",
       "       -0.02224713+0.01271265j, -0.02224713+0.01271265j,\n",
       "        0.04449427-0.0254253j ])"
      ]
     },
     "execution_count": 28,
     "metadata": {},
     "output_type": "execute_result"
    }
   ],
   "source": [
    "l.YPrim()"
   ]
  },
  {
   "cell_type": "markdown",
   "metadata": {},
   "source": [
    "Most of the API functions are encapsulated on each object. There isn't a separate `ActiveCktElement` or `CktElement` anymore:"
   ]
  },
  {
   "cell_type": "code",
   "execution_count": 29,
   "metadata": {},
   "outputs": [
    {
     "data": {
      "text/plain": [
       "array([ 2350.08179214 -221.06105284j, -1338.40993775-2109.78765406j,\n",
       "       -1015.44476495+2083.1416145j ])"
      ]
     },
     "execution_count": 29,
     "metadata": {},
     "output_type": "execute_result"
    }
   ],
   "source": [
    "l.Voltages()"
   ]
  },
  {
   "cell_type": "markdown",
   "metadata": {},
   "source": [
    "You can enable AdvancedTypes like in DSS-Python to enable matrices. But all complex data are represented as complex numbers, always."
   ]
  },
  {
   "cell_type": "code",
   "execution_count": 30,
   "metadata": {},
   "outputs": [
    {
     "data": {
      "text/plain": [
       "array([[ 2350.08179214 -221.06105284j],\n",
       "       [-1338.40993775-2109.78765406j],\n",
       "       [-1015.44476495+2083.1416145j ]])"
      ]
     },
     "execution_count": 30,
     "metadata": {},
     "output_type": "execute_result"
    }
   ],
   "source": [
    "altdss.Settings.AdvancedTypes = True\n",
    "l.Voltages()"
   ]
  },
  {
   "cell_type": "code",
   "execution_count": 31,
   "metadata": {},
   "outputs": [
    {
     "data": {
      "text/plain": [
       "False"
      ]
     },
     "execution_count": 31,
     "metadata": {},
     "output_type": "execute_result"
    }
   ],
   "source": [
    "l.IsIsolated()"
   ]
  },
  {
   "cell_type": "markdown",
   "metadata": {},
   "source": [
    "Most DSS properties that refer to DSS objects return the object directly:"
   ]
  },
  {
   "cell_type": "code",
   "execution_count": 32,
   "metadata": {},
   "outputs": [
    {
     "data": {
      "text/plain": [
       "<Spectrum.defaultload>"
      ]
     },
     "execution_count": 32,
     "metadata": {},
     "output_type": "execute_result"
    }
   ],
   "source": [
    "l.Spectrum"
   ]
  },
  {
   "cell_type": "code",
   "execution_count": 33,
   "metadata": {},
   "outputs": [
    {
     "data": {
      "text/plain": [
       "array([ 1.,  3.,  5.,  7.,  9., 11., 13.])"
      ]
     },
     "execution_count": 33,
     "metadata": {},
     "output_type": "execute_result"
    }
   ],
   "source": [
    "l.Spectrum.Harmonic"
   ]
  },
  {
   "cell_type": "code",
   "execution_count": 34,
   "metadata": {},
   "outputs": [
    {
     "data": {
      "text/plain": [
       "array([100. ,   1.5,  20. ,  14. ,   1. ,   9. ,   7. ])"
      ]
     },
     "execution_count": 34,
     "metadata": {},
     "output_type": "execute_result"
    }
   ],
   "source": [
    "l.Spectrum.pctMag"
   ]
  },
  {
   "cell_type": "markdown",
   "metadata": {},
   "source": [
    "Sometimes you need just the name, so separate properties or functions, with the suffix `_str` also exist:"
   ]
  },
  {
   "cell_type": "code",
   "execution_count": 35,
   "metadata": {},
   "outputs": [
    {
     "data": {
      "text/plain": [
       "'defaultload'"
      ]
     },
     "execution_count": 35,
     "metadata": {},
     "output_type": "execute_result"
    }
   ],
   "source": [
    "l.Spectrum_str"
   ]
  },
  {
   "cell_type": "markdown",
   "metadata": {},
   "source": [
    "## Batches"
   ]
  },
  {
   "cell_type": "markdown",
   "metadata": {},
   "source": [
    "`altdss.Load` (and all other DSS classes represented there) is the container for all loads. At the same time, it's a batch container!"
   ]
  },
  {
   "cell_type": "code",
   "execution_count": 36,
   "metadata": {},
   "outputs": [
    {
     "data": {
      "text/plain": [
       "<altdss.ArrayProxy.BatchFloat64ArrayProxy at 0x7fb84776ac90>"
      ]
     },
     "execution_count": 36,
     "metadata": {},
     "output_type": "execute_result"
    }
   ],
   "source": [
    "altdss.Load.kW"
   ]
  },
  {
   "cell_type": "code",
   "execution_count": 37,
   "metadata": {},
   "outputs": [
    {
     "data": {
      "text/plain": [
       "array([1155.,  160.,  120.,  120.,  170.,  230.,  170.,  485.,   68.,\n",
       "        290.,  170.,  128.,   17.,   66.,  117.])"
      ]
     },
     "execution_count": 37,
     "metadata": {},
     "output_type": "execute_result"
    }
   ],
   "source": [
    "altdss.Load.kW.to_array()"
   ]
  },
  {
   "cell_type": "markdown",
   "metadata": {},
   "source": [
    "Some operations are pushed down to the engine. For example, this doesn't run a loop in Python:"
   ]
  },
  {
   "cell_type": "code",
   "execution_count": 38,
   "metadata": {},
   "outputs": [],
   "source": [
    "altdss.Load.kW *= 1.1"
   ]
  },
  {
   "cell_type": "markdown",
   "metadata": {},
   "source": [
    "Let's load a larger circuit:"
   ]
  },
  {
   "cell_type": "code",
   "execution_count": 39,
   "metadata": {},
   "outputs": [
    {
     "data": {
      "text/plain": [
       "('ieee8500', 8531)"
      ]
     },
     "execution_count": 39,
     "metadata": {},
     "output_type": "execute_result"
    }
   ],
   "source": [
    "altdss(f'redirect \"{IEEE8500_PATH}\"')\n",
    "altdss.Name, altdss.NumNodes"
   ]
  },
  {
   "cell_type": "markdown",
   "metadata": {},
   "source": [
    "and multiple all kWs by 1.0 just to show some timings (and not change the values):"
   ]
  },
  {
   "cell_type": "code",
   "execution_count": 40,
   "metadata": {},
   "outputs": [
    {
     "name": "stdout",
     "output_type": "stream",
     "text": [
      "155 µs ± 2.47 µs per loop (mean ± std. dev. of 7 runs, 10,000 loops each)\n"
     ]
    }
   ],
   "source": [
    "%%timeit\n",
    "altdss.Load.kW *= 1.0"
   ]
  },
  {
   "cell_type": "markdown",
   "metadata": {},
   "source": [
    "And now doing this via the classic API (via DSS-Python here):"
   ]
  },
  {
   "cell_type": "code",
   "execution_count": 41,
   "metadata": {},
   "outputs": [
    {
     "name": "stdout",
     "output_type": "stream",
     "text": [
      "925 µs ± 15.6 µs per loop (mean ± std. dev. of 7 runs, 1,000 loops each)\n"
     ]
    }
   ],
   "source": [
    "%%timeit \n",
    "for l in dss.ActiveCircuit.Loads: \n",
    "    l.kW *= 1.0"
   ]
  },
  {
   "cell_type": "markdown",
   "metadata": {},
   "source": [
    "We can filter the objects based on **integer** and **boolean** properties, besides regular expressions."
   ]
  },
  {
   "cell_type": "code",
   "execution_count": 42,
   "metadata": {},
   "outputs": [
    {
     "data": {
      "text/plain": [
       "10773.169999999998"
      ]
     },
     "execution_count": 42,
     "metadata": {},
     "output_type": "execute_result"
    }
   ],
   "source": [
    "loads_2ph = altdss.Load.batch(Phases=2)\n",
    "assert all(l.Phases == 2 for l in loads_2ph)\n",
    "sum(loads_2ph.kW)"
   ]
  },
  {
   "cell_type": "code",
   "execution_count": 43,
   "metadata": {},
   "outputs": [
    {
     "data": {
      "text/plain": [
       "[<Load.20107636a0>, <Load.20107693b0>]"
      ]
     },
     "execution_count": 43,
     "metadata": {},
     "output_type": "execute_result"
    }
   ],
   "source": [
    "l2010x = altdss.Load.batch(re='^2010.*$')\n",
    "l2010x.to_list()"
   ]
  },
  {
   "cell_type": "markdown",
   "metadata": {},
   "source": [
    "Let's set the loadshape to these 2-phase loads:"
   ]
  },
  {
   "cell_type": "code",
   "execution_count": 44,
   "metadata": {},
   "outputs": [],
   "source": [
    "loads_2ph.Daily = 'default'"
   ]
  },
  {
   "cell_type": "code",
   "execution_count": 45,
   "metadata": {},
   "outputs": [
    {
     "data": {
      "text/plain": [
       "<LoadShape.default>"
      ]
     },
     "execution_count": 45,
     "metadata": {},
     "output_type": "execute_result"
    }
   ],
   "source": [
    "loads_2ph[0].Daily"
   ]
  },
  {
   "cell_type": "markdown",
   "metadata": {},
   "source": [
    "A lot of enum classes were introduced to complement the basic enums used in our implementation of the classic API. For example, any DSS property that is represented as an enum has a dedicated type:"
   ]
  },
  {
   "cell_type": "code",
   "execution_count": 46,
   "metadata": {},
   "outputs": [
    {
     "data": {
      "text/plain": [
       "<LengthUnit.none: 0>"
      ]
     },
     "execution_count": 46,
     "metadata": {},
     "output_type": "execute_result"
    }
   ],
   "source": [
    "line = altdss.Line[0]\n",
    "line.Units"
   ]
  },
  {
   "cell_type": "code",
   "execution_count": 47,
   "metadata": {},
   "outputs": [
    {
     "data": {
      "text/plain": [
       "{0: <LengthUnit.none: 0>,\n",
       " 1: <LengthUnit.mi: 1>,\n",
       " 2: <LengthUnit.kft: 2>,\n",
       " 3: <LengthUnit.km: 3>,\n",
       " 4: <LengthUnit.m: 4>,\n",
       " 5: <LengthUnit.ft: 5>,\n",
       " 6: <LengthUnit.inch: 6>,\n",
       " 7: <LengthUnit.cm: 7>,\n",
       " 8: <LengthUnit.mm: 8>}"
      ]
     },
     "execution_count": 47,
     "metadata": {},
     "output_type": "execute_result"
    }
   ],
   "source": [
    "from altdss.enums import LengthUnit\n",
    "\n",
    "LengthUnit._value2member_map_"
   ]
  },
  {
   "cell_type": "markdown",
   "metadata": {},
   "source": [
    "## Creating objects\n",
    "\n",
    "We can also create a new loadshape and assign the object directly, either to objects or batches:"
   ]
  },
  {
   "cell_type": "code",
   "execution_count": 48,
   "metadata": {},
   "outputs": [],
   "source": [
    "loadshape = altdss.LoadShape.new('sample_shape')\n",
    "loadshape.NPts = 5\n",
    "loadshape.PMult = [1, 2, 3, 4, 5]\n",
    "loadshape.end_edit()"
   ]
  },
  {
   "cell_type": "code",
   "execution_count": 49,
   "metadata": {},
   "outputs": [
    {
     "data": {
      "text/plain": [
       "['sample_shape', 'sample_shape']"
      ]
     },
     "execution_count": 49,
     "metadata": {},
     "output_type": "execute_result"
    }
   ],
   "source": [
    "l2010x.Daily = loadshape\n",
    "l2010x.Daily_str # checking"
   ]
  },
  {
   "cell_type": "markdown",
   "metadata": {},
   "source": [
    "We'll probalby tweak this `end_edit()` idiom in later versions.\n",
    "\n",
    "We are also considering making `NPts` and most of the other size properties not required when creating/manipulating data from Python (i.e. this doesn't affect DSS scripts), as it will follow the formats derived from the upcoming AltDSS Schema.\n",
    "\n",
    "The `new` methods also accept the DSS properties as keyword arguments. [Check the `tests` folder in the repository](https://github.com/dss-extensions/AltDSS-Python/tree/main/tests) for more examples."
   ]
  },
  {
   "cell_type": "markdown",
   "metadata": {},
   "source": [
    "## Automatic invalidation\n",
    "\n",
    "The `bus0` we got before was for another circuit. If we try to use it, it is marked with `InvalidatedDSSBus`."
   ]
  },
  {
   "cell_type": "code",
   "execution_count": 50,
   "metadata": {},
   "outputs": [
    {
     "ename": "TypeError",
     "evalue": "initializer for ctype 'void *' must be a cdata pointer, not InvalidatedDSSBus",
     "output_type": "error",
     "traceback": [
      "\u001b[0;31m---------------------------------------------------------------------------\u001b[0m",
      "\u001b[0;31mTypeError\u001b[0m                                 Traceback (most recent call last)",
      "Cell \u001b[0;32mIn[50], line 1\u001b[0m\n\u001b[0;32m----> 1\u001b[0m \u001b[43mbus0\u001b[49m\u001b[38;5;241;43m.\u001b[39;49m\u001b[43mName\u001b[49m\n",
      "File \u001b[0;32m~/projects/dss/altdss-python/altdss/Bus.py:100\u001b[0m, in \u001b[0;36mBus.Name\u001b[0;34m(self)\u001b[0m\n\u001b[1;32m     97\u001b[0m \u001b[38;5;129m@property\u001b[39m\n\u001b[1;32m     98\u001b[0m \u001b[38;5;28;01mdef\u001b[39;00m \u001b[38;5;21mName\u001b[39m(\u001b[38;5;28mself\u001b[39m) \u001b[38;5;241m-\u001b[39m\u001b[38;5;241m>\u001b[39m \u001b[38;5;28mstr\u001b[39m:\n\u001b[1;32m     99\u001b[0m \u001b[38;5;250m    \u001b[39m\u001b[38;5;124;03m'''Name of Bus'''\u001b[39;00m\n\u001b[0;32m--> 100\u001b[0m     \u001b[38;5;28;01mreturn\u001b[39;00m \u001b[38;5;28mself\u001b[39m\u001b[38;5;241m.\u001b[39m_get_string(\u001b[38;5;28;43mself\u001b[39;49m\u001b[38;5;241;43m.\u001b[39;49m\u001b[43m_lib\u001b[49m\u001b[38;5;241;43m.\u001b[39;49m\u001b[43mAlt_Bus_Get_Name\u001b[49m\u001b[43m(\u001b[49m\u001b[38;5;28;43mself\u001b[39;49m\u001b[38;5;241;43m.\u001b[39;49m\u001b[43m_ptr\u001b[49m\u001b[43m)\u001b[49m)\n",
      "File \u001b[0;32m~/projects/dss/dss_python/dss/_cffi_api_util.py:82\u001b[0m, in \u001b[0;36mCtxLib._error_checked\u001b[0;34m(self, _errorPtr, f, *args)\u001b[0m\n\u001b[1;32m     81\u001b[0m \u001b[38;5;28;01mdef\u001b[39;00m \u001b[38;5;21m_error_checked\u001b[39m(\u001b[38;5;28mself\u001b[39m, _errorPtr, f, \u001b[38;5;241m*\u001b[39margs):\n\u001b[0;32m---> 82\u001b[0m     result \u001b[38;5;241m=\u001b[39m \u001b[43mf\u001b[49m\u001b[43m(\u001b[49m\u001b[38;5;241;43m*\u001b[39;49m\u001b[43margs\u001b[49m\u001b[43m)\u001b[49m\n\u001b[1;32m     83\u001b[0m     \u001b[38;5;28;01mif\u001b[39;00m _errorPtr[\u001b[38;5;241m0\u001b[39m] \u001b[38;5;129;01mand\u001b[39;00m Base\u001b[38;5;241m.\u001b[39m_use_exceptions:\n\u001b[1;32m     84\u001b[0m         error_num \u001b[38;5;241m=\u001b[39m _errorPtr[\u001b[38;5;241m0\u001b[39m]\n",
      "\u001b[0;31mTypeError\u001b[0m: initializer for ctype 'void *' must be a cdata pointer, not InvalidatedDSSBus"
     ]
    }
   ],
   "source": [
    "bus0.Name"
   ]
  },
  {
   "cell_type": "markdown",
   "metadata": {},
   "source": [
    "Similarly, the load `l` is marked `InvalidatedDSSObject`:"
   ]
  },
  {
   "cell_type": "code",
   "execution_count": null,
   "metadata": {},
   "outputs": [],
   "source": [
    "l.kW"
   ]
  },
  {
   "cell_type": "markdown",
   "metadata": {},
   "source": [
    "## TO BE CONTINUED!\n",
    "\n",
    "We can also:\n",
    "- **create** objects and batches of new objects. See the tests on the repository for some samples.\n",
    "- control some side-effects when updating properties\n"
   ]
  }
 ],
 "metadata": {
  "kernelspec": {
   "display_name": "Python 3 (ipykernel)",
   "language": "python",
   "name": "python3"
  },
  "language_info": {
   "codemirror_mode": {
    "name": "ipython",
    "version": 3
   },
   "file_extension": ".py",
   "mimetype": "text/x-python",
   "name": "python",
   "nbconvert_exporter": "python",
   "pygments_lexer": "ipython3",
   "version": "3.11.4"
  }
 },
 "nbformat": 4,
 "nbformat_minor": 4
}
